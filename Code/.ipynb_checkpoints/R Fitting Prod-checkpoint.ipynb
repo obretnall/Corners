{
 "cells": [
  {
   "cell_type": "markdown",
   "metadata": {},
   "source": [
    "## Packages and Functions"
   ]
  },
  {
   "cell_type": "code",
   "execution_count": 2,
   "metadata": {},
   "outputs": [],
   "source": [
    "import pandas as pd\n",
    "import math\n",
    "import matplotlib.pyplot as plt"
   ]
  },
  {
   "cell_type": "code",
   "execution_count": null,
   "metadata": {},
   "outputs": [],
   "source": [
    "def negbin(mean,R,x):\n",
    "    p = (mean / R) * (1/(1+(mean/R)))\n",
    "    return ((math.factorial(x + R -1))/(math.factorial(x)*math.factorial(R -1))) * (p ** x) * ((1-p)**R)"
   ]
  },
  {
   "cell_type": "markdown",
   "metadata": {},
   "source": [
    "## Import Data"
   ]
  },
  {
   "cell_type": "code",
   "execution_count": 3,
   "metadata": {},
   "outputs": [],
   "source": [
    "data = pd.read_csv('../Data/Prem Master Corners')"
   ]
  },
  {
   "cell_type": "code",
   "execution_count": 4,
   "metadata": {},
   "outputs": [],
   "source": [
    "def main(club):\n",
    "    data['MatchTotal'] = data.HC + data.AC\n",
    "    team = data[data.HomeTeam == club]\n",
    "    team = team.append(data[data.AwayTeam == club])\n",
    "    totals = team.groupby(by='MatchTotal').count()\n",
    "    totals.drop(labels=['HomeTeam' , 'AwayTeam' , 'HC' , 'AC' , 'Season'] , axis=1 , inplace=True)\n",
    "    totals.columns = ['Count']\n",
    "    totals['MatchTotal'] = totals.index\n",
    "    totals['Prob'] = totals.Count / totals.Count.sum()\n",
    "    totals['Number'] = totals.Count * totals.MatchTotal\n",
    "    def testing(R):\n",
    "        K = R\n",
    "        mean = totals.Number.sum() / totals.Count.sum() \n",
    "        totals.Model = totals.apply(lambda x: negbin(mean , K , x['MatchTotal']) , axis = 1)\n",
    "        totals['chi'] = ((totals.Prob - totals.Model)**2)/totals.Model\n",
    "        return totals.chi.sum()\n",
    "    R_value = pd.DataFrame(data =({'R' : list(range(10,121,1)) , 'Sum_Chi' : list(range(111))}))\n",
    "    R_value['Sum_Chi'] = R_value.apply(lambda x: testing(x['R']) , axis = 1)\n",
    "    #plt.scatter(totals.MatchTotal , totals.Count)\n",
    "    plt.scatter(R_value.R , R_value.Sum_Chi)\n",
    "    return R_value.R[R_value.Sum_Chi.idxmin()]\n",
    "    "
   ]
  },
  {
   "cell_type": "code",
   "execution_count": 5,
   "metadata": {},
   "outputs": [
    {
     "name": "stderr",
     "output_type": "stream",
     "text": [
      "c:\\programdata\\anaconda3\\lib\\site-packages\\ipykernel_launcher.py:14: UserWarning: Pandas doesn't allow columns to be created via a new attribute name - see https://pandas.pydata.org/pandas-docs/stable/indexing.html#attribute-access\n",
      "  \n"
     ]
    },
    {
     "data": {
      "text/plain": [
       "18"
      ]
     },
     "execution_count": 5,
     "metadata": {},
     "output_type": "execute_result"
    },
    {
     "data": {
      "image/png": "[encoded data removed]",
      "text/plain": [
       "<matplotlib.figure.Figure at 0x1642d38ff60>"
      ]
     },
     "metadata": {},
     "output_type": "display_data"
    }
   ],
   "source": [
    "main('Chelsea')\n"
   ]
  },
  {
   "cell_type": "code",
   "execution_count": 6,
   "metadata": {},
   "outputs": [
    {
     "name": "stderr",
     "output_type": "stream",
     "text": [
      "c:\\programdata\\anaconda3\\lib\\site-packages\\ipykernel_launcher.py:14: UserWarning: Pandas doesn't allow columns to be created via a new attribute name - see https://pandas.pydata.org/pandas-docs/stable/indexing.html#attribute-access\n",
      "  \n"
     ]
    },
    {
     "data": {
      "text/plain": [
       "102"
      ]
     },
     "execution_count": 6,
     "metadata": {},
     "output_type": "execute_result"
    },
    {
     "data": {
      "image/png": "[encoded data removed]",
      "text/plain": [
       "<matplotlib.figure.Figure at 0x1642d1c8be0>"
      ]
     },
     "metadata": {},
     "output_type": "display_data"
    }
   ],
   "source": [
    "main('Bournemouth')"
   ]
  },
  {
   "cell_type": "code",
   "execution_count": null,
   "metadata": {},
   "outputs": [],
   "source": []
  }
 ],
 "metadata": {
  "kernelspec": {
   "display_name": "Python 3",
   "language": "python",
   "name": "python3"
  },
  "language_info": {
   "codemirror_mode": {
    "name": "ipython",
    "version": 3
   },
   "file_extension": ".py",
   "mimetype": "text/x-python",
   "name": "python",
   "nbconvert_exporter": "python",
   "pygments_lexer": "ipython3",
   "version": "3.6.4"
  }
 },
 "nbformat": 4,
 "nbformat_minor": 2
}
